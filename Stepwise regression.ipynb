{
 "cells": [
  {
   "cell_type": "code",
   "execution_count": 2,
   "metadata": {},
   "outputs": [
    {
     "name": "stdout",
     "output_type": "stream",
     "text": [
      "The maximum vif value of design matrix X is: 124.5388\n",
      " The k condition number of design matrix X is: 342589.4"
     ]
    }
   ],
   "source": [
    "rm(list=ls())\n",
    "library(car)\n",
    "library(bestglm)\n",
    "library(leaps)\n",
    "setwd(\"D:/2019 Fall/STAT 628/module 2\")\n",
    "data = read.csv(\"data.cleaned.csv\")[,-1]\n",
    "m = lm(data$DENSITY~.,data)\n",
    "cat(\"The maximum vif value of design matrix X is: \",max(vif(m)),sep=\"\")\n",
    "mat = as.matrix(data[-1])\n",
    "cat(\"\\n The k condition number of design matrix X is: \",max(eigen(t(mat)%*%mat)$values)/min(eigen(t(mat)%*%mat)$values),sep=\"\")\n"
   ]
  },
  {
   "cell_type": "markdown",
   "metadata": {},
   "source": [
    "### Review of original linear regression model"
   ]
  },
  {
   "cell_type": "code",
   "execution_count": 4,
   "metadata": {},
   "outputs": [
    {
     "data": {
      "text/plain": [
       "\n",
       "Call:\n",
       "lm(formula = DENSITY ~ ., data = data)\n",
       "\n",
       "Residuals:\n",
       "       Min         1Q     Median         3Q        Max \n",
       "-0.0218836 -0.0066880  0.0003936  0.0068992  0.0209215 \n",
       "\n",
       "Coefficients:\n",
       "              Estimate Std. Error t value Pr(>|t|)    \n",
       "(Intercept)  1.162e+00  9.017e-02  12.882  < 2e-16 ***\n",
       "AGE         -1.709e-04  7.249e-05  -2.357 0.019235 *  \n",
       "WEIGHT       2.299e-04  2.519e-04   0.913 0.362245    \n",
       "HEIGHT      -4.915e-04  1.237e-03  -0.397 0.691474    \n",
       "ADIPOSITY   -1.399e-03  1.763e-03  -0.794 0.428229    \n",
       "NECK         9.676e-04  5.265e-04   1.838 0.067361 .  \n",
       "CHEST        2.781e-04  2.495e-04   1.115 0.266091    \n",
       "ABDOMEN     -2.034e-03  2.101e-04  -9.684  < 2e-16 ***\n",
       "HIP          4.673e-04  3.326e-04   1.405 0.161357    \n",
       "THIGH       -5.124e-04  3.295e-04  -1.555 0.121268    \n",
       "KNEE         1.106e-04  5.520e-04   0.200 0.841337    \n",
       "ANKLE       -4.510e-04  5.023e-04  -0.898 0.370188    \n",
       "BICEPS      -4.042e-04  3.842e-04  -1.052 0.293905    \n",
       "FOREARM     -6.360e-04  4.663e-04  -1.364 0.173917    \n",
       "WRIST        4.114e-03  1.202e-03   3.422 0.000735 ***\n",
       "---\n",
       "Signif. codes:  0 '***' 0.001 '**' 0.01 '*' 0.05 '.' 0.1 ' ' 1\n",
       "\n",
       "Residual standard error: 0.009536 on 233 degrees of freedom\n",
       "Multiple R-squared:  0.7531,\tAdjusted R-squared:  0.7383 \n",
       "F-statistic: 50.76 on 14 and 233 DF,  p-value: < 2.2e-16\n"
      ]
     },
     "metadata": {},
     "output_type": "display_data"
    },
    {
     "data": {
      "image/png": "[encoded data removed]",
      "text/plain": [
       "Plot with title \"\""
      ]
     },
     "metadata": {},
     "output_type": "display_data"
    }
   ],
   "source": [
    "m = lm(DENSITY~.,data)\n",
    "summary(m)\n",
    "par(mfrow=c(2,2))\n",
    "plot(m)"
   ]
  },
  {
   "cell_type": "markdown",
   "metadata": {},
   "source": [
    "From the summary of the model, it can be seen that there exists some insignificant predictors;\n",
    "\n",
    "Besides, we will show there is multi-colinearity relationship between design matrix."
   ]
  },
  {
   "cell_type": "markdown",
   "metadata": {},
   "source": [
    "#### Colinearity in design matrix"
   ]
  },
  {
   "cell_type": "code",
   "execution_count": 5,
   "metadata": {},
   "outputs": [
    {
     "name": "stdout",
     "output_type": "stream",
     "text": [
      "The maximum vif value of design matrix X is: 124.5388\n",
      " The k condition number of design matrix X is: 342589.4"
     ]
    }
   ],
   "source": [
    "cat(\"The maximum vif value of design matrix X is: \",max(vif(m)),sep=\"\")\n",
    "mat = as.matrix(data[-1])\n",
    "cat(\"\\n The k condition number of design matrix X is: \",max(eigen(t(mat)%*%mat)$values)/min(eigen(t(mat)%*%mat)$values),sep=\"\")"
   ]
  },
  {
   "cell_type": "markdown",
   "metadata": {},
   "source": [
    "Thus, for computational efficiency and multi-colinearity solution, apply step-wise regression with different directions and criteria ti do variables selection."
   ]
  },
  {
   "cell_type": "markdown",
   "metadata": {},
   "source": [
    "### Variable selection"
   ]
  },
  {
   "cell_type": "code",
   "execution_count": 6,
   "metadata": {},
   "outputs": [],
   "source": [
    "n = nrow(data)\n",
    "set.seed(628)\n",
    "index = sample(1:n,floor(2*n/3))\n",
    "train = data[index,]\n",
    "test = data[-index,]\n",
    "m = lm(train$DENSITY~.,train)\n",
    "m.regsub = regsubsets(train$DENSITY~., train, nvmax = ncol(train[,-1]))\n",
    "train.renamed = cbind(train[,-1],train[,1])\n",
    "names(train.renamed)[ncol(train)] = \"DENSITY\""
   ]
  },
  {
   "cell_type": "markdown",
   "metadata": {},
   "source": [
    "#### AIC criterion"
   ]
  },
  {
   "cell_type": "code",
   "execution_count": 7,
   "metadata": {},
   "outputs": [
    {
     "name": "stdout",
     "output_type": "stream",
     "text": [
      "Start:  AIC=-1522.71\n",
      "train$DENSITY ~ AGE + WEIGHT + HEIGHT + ADIPOSITY + NECK + CHEST + \n",
      "    ABDOMEN + HIP + THIGH + KNEE + ANKLE + BICEPS + FOREARM + \n",
      "    WRIST\n",
      "\n",
      "            Df Sum of Sq      RSS     AIC\n",
      "- WEIGHT     1 0.0000004 0.013509 -1524.7\n",
      "- BICEPS     1 0.0000031 0.013512 -1524.7\n",
      "- ADIPOSITY  1 0.0000050 0.013514 -1524.7\n",
      "- KNEE       1 0.0000138 0.013522 -1524.5\n",
      "- HEIGHT     1 0.0000176 0.013526 -1524.5\n",
      "- FOREARM    1 0.0000608 0.013569 -1524.0\n",
      "- NECK       1 0.0001634 0.013672 -1522.7\n",
      "<none>                   0.013509 -1522.7\n",
      "- ANKLE      1 0.0001681 0.013677 -1522.7\n",
      "- CHEST      1 0.0003117 0.013820 -1521.0\n",
      "- AGE        1 0.0004697 0.013978 -1519.1\n",
      "- HIP        1 0.0004800 0.013989 -1519.0\n",
      "- THIGH      1 0.0006213 0.014130 -1517.3\n",
      "- WRIST      1 0.0008506 0.014359 -1514.6\n",
      "- ABDOMEN    1 0.0062414 0.019750 -1462.0\n",
      "\n",
      "Step:  AIC=-1524.71\n",
      "train$DENSITY ~ AGE + HEIGHT + ADIPOSITY + NECK + CHEST + ABDOMEN + \n",
      "    HIP + THIGH + KNEE + ANKLE + BICEPS + FOREARM + WRIST\n",
      "\n",
      "            Df Sum of Sq      RSS     AIC\n",
      "- BICEPS     1 0.0000028 0.013512 -1526.7\n",
      "- KNEE       1 0.0000153 0.013524 -1526.5\n",
      "- ADIPOSITY  1 0.0000238 0.013533 -1526.4\n",
      "- FOREARM    1 0.0000605 0.013569 -1526.0\n",
      "- HEIGHT     1 0.0000721 0.013581 -1525.8\n",
      "- NECK       1 0.0001631 0.013672 -1524.7\n",
      "<none>                   0.013509 -1524.7\n",
      "- ANKLE      1 0.0001682 0.013677 -1524.7\n",
      "- CHEST      1 0.0003145 0.013824 -1522.9\n",
      "+ WEIGHT     1 0.0000004 0.013509 -1522.7\n",
      "- AGE        1 0.0004697 0.013979 -1521.1\n",
      "- HIP        1 0.0004799 0.013989 -1521.0\n",
      "- THIGH      1 0.0006231 0.014132 -1519.3\n",
      "- WRIST      1 0.0008505 0.014360 -1516.6\n",
      "- ABDOMEN    1 0.0062411 0.019750 -1464.0\n",
      "\n",
      "Step:  AIC=-1526.67\n",
      "train$DENSITY ~ AGE + HEIGHT + ADIPOSITY + NECK + CHEST + ABDOMEN + \n",
      "    HIP + THIGH + KNEE + ANKLE + FOREARM + WRIST\n",
      "\n",
      "            Df Sum of Sq      RSS     AIC\n",
      "- KNEE       1 0.0000152 0.013527 -1528.5\n",
      "- ADIPOSITY  1 0.0000212 0.013533 -1528.4\n",
      "- FOREARM    1 0.0000582 0.013570 -1528.0\n",
      "- HEIGHT     1 0.0000824 0.013594 -1527.7\n",
      "<none>                   0.013512 -1526.7\n",
      "- ANKLE      1 0.0001682 0.013680 -1526.6\n",
      "- NECK       1 0.0001731 0.013685 -1526.6\n",
      "- CHEST      1 0.0003131 0.013825 -1524.9\n",
      "+ BICEPS     1 0.0000028 0.013509 -1524.7\n",
      "+ WEIGHT     1 0.0000001 0.013512 -1524.7\n",
      "- AGE        1 0.0004698 0.013982 -1523.0\n",
      "- HIP        1 0.0004814 0.013993 -1522.9\n",
      "- THIGH      1 0.0006557 0.014167 -1520.8\n",
      "- WRIST      1 0.0008505 0.014362 -1518.6\n",
      "- ABDOMEN    1 0.0064639 0.019976 -1464.2\n",
      "\n",
      "Step:  AIC=-1528.49\n",
      "train$DENSITY ~ AGE + HEIGHT + ADIPOSITY + NECK + CHEST + ABDOMEN + \n",
      "    HIP + THIGH + ANKLE + FOREARM + WRIST\n",
      "\n",
      "            Df Sum of Sq      RSS     AIC\n",
      "- ADIPOSITY  1 0.0000192 0.013546 -1530.2\n",
      "- FOREARM    1 0.0000693 0.013596 -1529.6\n",
      "- HEIGHT     1 0.0000722 0.013599 -1529.6\n",
      "<none>                   0.013527 -1528.5\n",
      "- NECK       1 0.0001746 0.013702 -1528.4\n",
      "- ANKLE      1 0.0001959 0.013723 -1528.1\n",
      "- CHEST      1 0.0003071 0.013834 -1526.8\n",
      "+ KNEE       1 0.0000152 0.013512 -1526.7\n",
      "+ BICEPS     1 0.0000026 0.013524 -1526.5\n",
      "+ WEIGHT     1 0.0000011 0.013526 -1526.5\n",
      "- HIP        1 0.0004664 0.013993 -1524.9\n",
      "- AGE        1 0.0005046 0.014032 -1524.4\n",
      "- THIGH      1 0.0007529 0.014280 -1521.5\n",
      "- WRIST      1 0.0008374 0.014364 -1520.6\n",
      "- ABDOMEN    1 0.0064787 0.020006 -1465.9\n",
      "\n",
      "Step:  AIC=-1530.25\n",
      "train$DENSITY ~ AGE + HEIGHT + NECK + CHEST + ABDOMEN + HIP + \n",
      "    THIGH + ANKLE + FOREARM + WRIST\n",
      "\n",
      "            Df Sum of Sq      RSS     AIC\n",
      "- FOREARM    1 0.0000978 0.013644 -1531.1\n",
      "- NECK       1 0.0001570 0.013703 -1530.3\n",
      "<none>                   0.013546 -1530.2\n",
      "- ANKLE      1 0.0002391 0.013785 -1529.4\n",
      "+ ADIPOSITY  1 0.0000192 0.013527 -1528.5\n",
      "+ WEIGHT     1 0.0000179 0.013528 -1528.5\n",
      "+ KNEE       1 0.0000132 0.013533 -1528.4\n",
      "+ BICEPS     1 0.0000002 0.013546 -1528.3\n",
      "- CHEST      1 0.0003333 0.013879 -1528.2\n",
      "- AGE        1 0.0004856 0.014032 -1526.4\n",
      "- HIP        1 0.0005120 0.014058 -1526.1\n",
      "- HEIGHT     1 0.0005770 0.014123 -1525.4\n",
      "- THIGH      1 0.0007891 0.014335 -1522.9\n",
      "- WRIST      1 0.0008196 0.014366 -1522.6\n",
      "- ABDOMEN    1 0.0078583 0.021404 -1456.8\n",
      "\n",
      "Step:  AIC=-1531.07\n",
      "train$DENSITY ~ AGE + HEIGHT + NECK + CHEST + ABDOMEN + HIP + \n",
      "    THIGH + ANKLE + WRIST\n",
      "\n",
      "            Df Sum of Sq      RSS     AIC\n",
      "- NECK       1 0.0001178 0.013762 -1531.7\n",
      "<none>                   0.013644 -1531.1\n",
      "- ANKLE      1 0.0002217 0.013866 -1530.4\n",
      "+ FOREARM    1 0.0000978 0.013546 -1530.2\n",
      "- CHEST      1 0.0002774 0.013921 -1529.8\n",
      "+ ADIPOSITY  1 0.0000476 0.013596 -1529.6\n",
      "+ WEIGHT     1 0.0000394 0.013605 -1529.5\n",
      "+ KNEE       1 0.0000250 0.013619 -1529.4\n",
      "+ BICEPS     1 0.0000106 0.013633 -1529.2\n",
      "- AGE        1 0.0004286 0.014072 -1528.0\n",
      "- HIP        1 0.0005141 0.014158 -1527.0\n",
      "- HEIGHT     1 0.0005767 0.014221 -1526.2\n",
      "- WRIST      1 0.0007222 0.014366 -1524.6\n",
      "- THIGH      1 0.0009524 0.014596 -1521.9\n",
      "- ABDOMEN    1 0.0077610 0.021405 -1458.8\n",
      "\n",
      "Step:  AIC=-1531.65\n",
      "train$DENSITY ~ AGE + HEIGHT + CHEST + ABDOMEN + HIP + THIGH + \n",
      "    ANKLE + WRIST\n",
      "\n",
      "            Df Sum of Sq      RSS     AIC\n",
      "<none>                   0.013762 -1531.7\n",
      "+ NECK       1 0.0001178 0.013644 -1531.1\n",
      "- ANKLE      1 0.0002729 0.014035 -1530.4\n",
      "+ FOREARM    1 0.0000585 0.013703 -1530.3\n",
      "+ KNEE       1 0.0000252 0.013737 -1530.0\n",
      "+ ADIPOSITY  1 0.0000127 0.013749 -1529.8\n",
      "+ WEIGHT     1 0.0000101 0.013751 -1529.8\n",
      "+ BICEPS     1 0.0000001 0.013762 -1529.7\n",
      "- CHEST      1 0.0004121 0.014174 -1528.8\n",
      "- HIP        1 0.0004603 0.014222 -1528.2\n",
      "- AGE        1 0.0004661 0.014228 -1528.2\n",
      "- HEIGHT     1 0.0006786 0.014440 -1525.7\n",
      "- THIGH      1 0.0008765 0.014638 -1523.5\n",
      "- WRIST      1 0.0012714 0.015033 -1519.1\n",
      "- ABDOMEN    1 0.0076555 0.021417 -1460.7\n"
     ]
    },
    {
     "data": {
      "text/plain": [
       "\n",
       "Call:\n",
       "lm(formula = train$DENSITY ~ AGE + HEIGHT + CHEST + ABDOMEN + \n",
       "    HIP + THIGH + ANKLE + WRIST, data = train)\n",
       "\n",
       "Coefficients:\n",
       "(Intercept)          AGE       HEIGHT        CHEST      ABDOMEN          HIP  \n",
       "  1.0568158   -0.0001900    0.0009715    0.0005219   -0.0021968    0.0008469  \n",
       "      THIGH        ANKLE        WRIST  \n",
       " -0.0010962   -0.0008915    0.0049789  \n"
      ]
     },
     "metadata": {},
     "output_type": "display_data"
    }
   ],
   "source": [
    "step(m,direction=\"both\",k=2,trace=0)"
   ]
  },
  {
   "cell_type": "code",
   "execution_count": null,
   "metadata": {},
   "outputs": [],
   "source": [
    "step(m,direction=\"backward\",k=2,trace=0)"
   ]
  },
  {
   "cell_type": "code",
   "execution_count": null,
   "metadata": {},
   "outputs": [],
   "source": [
    "step(m,direction=\"forward\",k=2,trace=0)"
   ]
  },
  {
   "cell_type": "code",
   "execution_count": null,
   "metadata": {},
   "outputs": [],
   "source": [
    "best.aic = bestglm(train.renamed, IC = \"AIC\")$BestModel"
   ]
  },
  {
   "cell_type": "markdown",
   "metadata": {},
   "source": [
    "#### BIC criterion"
   ]
  },
  {
   "cell_type": "code",
   "execution_count": null,
   "metadata": {},
   "outputs": [],
   "source": [
    "n=nrow(train);p=ncol(train[,-1])"
   ]
  },
  {
   "cell_type": "code",
   "execution_count": null,
   "metadata": {},
   "outputs": [],
   "source": [
    "step(m,direction=\"both\",k=log(n),trace=1)"
   ]
  },
  {
   "cell_type": "code",
   "execution_count": null,
   "metadata": {},
   "outputs": [],
   "source": [
    "step(m,direction=\"backward\",k=log(n),trace=1)"
   ]
  },
  {
   "cell_type": "code",
   "execution_count": null,
   "metadata": {},
   "outputs": [],
   "source": [
    "step(m,direction=\"forward\",k=log(n),trace=1)"
   ]
  },
  {
   "cell_type": "code",
   "execution_count": null,
   "metadata": {},
   "outputs": [],
   "source": [
    "best.bic = bestglm(train.renamed, IC = \"BIC\")$BestModel"
   ]
  },
  {
   "cell_type": "code",
   "execution_count": null,
   "metadata": {},
   "outputs": [],
   "source": [
    "plot(m.regsub, scale = 'bic')"
   ]
  },
  {
   "cell_type": "markdown",
   "metadata": {},
   "source": [
    "#### $R^2_{adj}$  criterion"
   ]
  },
  {
   "cell_type": "code",
   "execution_count": null,
   "metadata": {},
   "outputs": [],
   "source": [
    "plot(m.regsub, scale = 'adjr2')"
   ]
  },
  {
   "cell_type": "markdown",
   "metadata": {},
   "source": [
    "### Models selection"
   ]
  }
 ],
 "metadata": {
  "kernelspec": {
   "display_name": "R",
   "language": "R",
   "name": "ir"
  },
  "language_info": {
   "codemirror_mode": "r",
   "file_extension": ".r",
   "mimetype": "text/x-r-source",
   "name": "R",
   "pygments_lexer": "r",
   "version": "3.6.1"
  }
 },
 "nbformat": 4,
 "nbformat_minor": 2
}
