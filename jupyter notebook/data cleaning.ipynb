{
 "cells": [
  {
   "cell_type": "code",
   "execution_count": 1,
   "metadata": {},
   "outputs": [
    {
     "name": "stderr",
     "output_type": "stream",
     "text": [
      "Loading required package: carData\n"
     ]
    }
   ],
   "source": [
    "rm(list=ls())\n",
    "setwd(\"D:/2019 Fall/STAT 628/module 2\")\n",
    "data = read.csv(\"data/BODYFAT.csv\")[,-1]\n",
    "library(car)"
   ]
  },
  {
   "cell_type": "markdown",
   "metadata": {},
   "source": [
    "### Check missing values"
   ]
  },
  {
   "cell_type": "code",
   "execution_count": 2,
   "metadata": {},
   "outputs": [
    {
     "data": {
      "text/html": [
       "0"
      ],
      "text/latex": [
       "0"
      ],
      "text/markdown": [
       "0"
      ],
      "text/plain": [
       "[1] 0"
      ]
     },
     "metadata": {},
     "output_type": "display_data"
    }
   ],
   "source": [
    "max(is.na(data))"
   ]
  },
  {
   "cell_type": "markdown",
   "metadata": {},
   "source": [
    "As the command returns a 0, there is no misiing value in this data set."
   ]
  },
  {
   "cell_type": "markdown",
   "metadata": {},
   "source": [
    "### Visualization of target vectors"
   ]
  },
  {
   "cell_type": "code",
   "execution_count": 3,
   "metadata": {},
   "outputs": [
    {
     "data": {
      "image/png": "[encoded data removed]",
      "text/plain": [
       "Plot with title \"overlap plot of BODYFAT\""
      ]
     },
     "metadata": {},
     "output_type": "display_data"
    }
   ],
   "source": [
    "Y = data$BODYFAT\n",
    "plot(data$BODYFAT,rep(1,nrow(data)),col=1:nrow(data),xlab=\"Bodyfat\",ylab=\"\",main=\"overlap plot of BODYFAT\",ylim=c(0.9,1.1))"
   ]
  },
  {
   "cell_type": "markdown",
   "metadata": {},
   "source": [
    "From pictures above, the target vector can be considered as a continuous variable.\n",
    "\n",
    "Consider a linear reression model in this case. "
   ]
  },
  {
   "cell_type": "markdown",
   "metadata": {},
   "source": [
    "### A brief review of data"
   ]
  },
  {
   "cell_type": "markdown",
   "metadata": {},
   "source": [
    "Firstly, we use boxplot to see if extreme values are outliers.\n",
    "\n",
    "Here we just show columns who has values taken into conideration.\n",
    "\n",
    "Sencondly, according to current researches, the equation holds:\n",
    "$$bodyfat = \\frac{495}{density}-450$$\n",
    "$$bmi = \\frac{weight_{lb}}{height^2_{in}}*703$$\n",
    "We use the 1st equation to find potential outliers."
   ]
  },
  {
   "cell_type": "code",
   "execution_count": 4,
   "metadata": {},
   "outputs": [
    {
     "data": {
      "image/png": "[encoded data removed]",
      "text/plain": [
       "plot without title"
      ]
     },
     "metadata": {},
     "output_type": "display_data"
    }
   ],
   "source": [
    "boxplot(data[,c(\"BODYFAT\",\"DENSITY\",\"WEIGHT\",\"HEIGHT\",\"ADIPOSITY\",\"ABDOMEN\",\n",
    "                \"HIP\",\"THIGH\")],horizontal=T)\n",
    "ind = sort(unique(c(which.max(data$BODYFAT),which.min(data$DENSITY),\n",
    "                    which.max(data$WEIGHT),which.min(data$HEIGHT),\n",
    "                    which.min(data$ADIPOSITY),which.max(data$ABDOMEN),\n",
    "                    which.max(data$HIP),which.max(data$THIGH))))"
   ]
  },
  {
   "cell_type": "code",
   "execution_count": 5,
   "metadata": {},
   "outputs": [
    {
     "data": {
      "image/png": "[encoded data removed]",
      "text/plain": [
       "plot without title"
      ]
     },
     "metadata": {},
     "output_type": "display_data"
    }
   ],
   "source": [
    "rank.ind = which(rank(data$DENSITY)%in%c(1,174,251,252))\n",
    "index = sort(unique(c(rank.ind,ind)))\n",
    "plot(data$DENSITY,data$BODYFAT,pch=\".\",xlab=\"Density\",ylab=\"bodyfat\")\n",
    "text(data$DENSITY[index],data$BODYFAT[index],labels=as.character(index))\n",
    "curve(expr = 495/x-450,0,1.13,add=T)\n",
    "legend(\"topright\",legend=c(expression(bodyfat==frac(459,density)-450),\"data\"),\n",
    "       lty=c(\"solid\",\"dotted\"))"
   ]
  },
  {
   "cell_type": "markdown",
   "metadata": {},
   "source": [
    "In the above plot, we show the pitential outliers in the same picture."
   ]
  },
  {
   "cell_type": "code",
   "execution_count": 6,
   "metadata": {},
   "outputs": [
    {
     "data": {
      "text/html": [
       "<table>\n",
       "<caption>A data.frame: 6 × 16</caption>\n",
       "<thead>\n",
       "\t<tr><th></th><th scope=col>BODYFAT</th><th scope=col>DENSITY</th><th scope=col>AGE</th><th scope=col>WEIGHT</th><th scope=col>HEIGHT</th><th scope=col>ADIPOSITY</th><th scope=col>NECK</th><th scope=col>CHEST</th><th scope=col>ABDOMEN</th><th scope=col>HIP</th><th scope=col>THIGH</th><th scope=col>KNEE</th><th scope=col>ANKLE</th><th scope=col>BICEPS</th><th scope=col>FOREARM</th><th scope=col>WRIST</th></tr>\n",
       "\t<tr><th></th><th scope=col>&lt;dbl&gt;</th><th scope=col>&lt;dbl&gt;</th><th scope=col>&lt;int&gt;</th><th scope=col>&lt;dbl&gt;</th><th scope=col>&lt;dbl&gt;</th><th scope=col>&lt;dbl&gt;</th><th scope=col>&lt;dbl&gt;</th><th scope=col>&lt;dbl&gt;</th><th scope=col>&lt;dbl&gt;</th><th scope=col>&lt;dbl&gt;</th><th scope=col>&lt;dbl&gt;</th><th scope=col>&lt;dbl&gt;</th><th scope=col>&lt;dbl&gt;</th><th scope=col>&lt;dbl&gt;</th><th scope=col>&lt;dbl&gt;</th><th scope=col>&lt;dbl&gt;</th></tr>\n",
       "</thead>\n",
       "<tbody>\n",
       "\t<tr><th scope=row>39</th><td>33.8</td><td>1.0202</td><td>46</td><td>363.15</td><td>72.25</td><td>48.9</td><td>51.2</td><td>136.2</td><td>148.1</td><td>147.7</td><td>87.3</td><td>49.1</td><td>29.6</td><td>45.0</td><td>29.0</td><td>21.4</td></tr>\n",
       "\t<tr><th scope=row>42</th><td>31.7</td><td>1.0250</td><td>44</td><td>205.00</td><td>29.50</td><td>29.9</td><td>36.6</td><td>106.0</td><td>104.3</td><td>115.5</td><td>70.6</td><td>42.5</td><td>23.7</td><td>33.6</td><td>28.7</td><td>17.4</td></tr>\n",
       "\t<tr><th scope=row>48</th><td> 6.4</td><td>1.0665</td><td>39</td><td>148.50</td><td>71.25</td><td>20.6</td><td>34.6</td><td> 89.8</td><td> 79.5</td><td> 92.7</td><td>52.7</td><td>37.5</td><td>21.9</td><td>28.8</td><td>26.8</td><td>17.9</td></tr>\n",
       "\t<tr><th scope=row>96</th><td>17.3</td><td>1.0991</td><td>53</td><td>224.50</td><td>77.75</td><td>26.1</td><td>41.1</td><td>113.2</td><td> 99.2</td><td>107.5</td><td>61.7</td><td>42.3</td><td>23.2</td><td>32.9</td><td>30.8</td><td>20.4</td></tr>\n",
       "\t<tr><th scope=row>182</th><td> 0.0</td><td>1.1089</td><td>40</td><td>118.50</td><td>68.00</td><td>18.1</td><td>33.8</td><td> 79.3</td><td> 69.4</td><td> 85.0</td><td>47.2</td><td>33.5</td><td>20.2</td><td>27.7</td><td>24.6</td><td>16.5</td></tr>\n",
       "\t<tr><th scope=row>216</th><td>45.1</td><td>0.9950</td><td>51</td><td>219.00</td><td>64.00</td><td>37.6</td><td>41.2</td><td>119.8</td><td>122.1</td><td>112.8</td><td>62.5</td><td>36.9</td><td>23.6</td><td>34.7</td><td>29.1</td><td>18.4</td></tr>\n",
       "</tbody>\n",
       "</table>\n"
      ],
      "text/latex": [
       "A data.frame: 6 × 16\n",
       "\\begin{tabular}{r|llllllllllllllll}\n",
       "  & BODYFAT & DENSITY & AGE & WEIGHT & HEIGHT & ADIPOSITY & NECK & CHEST & ABDOMEN & HIP & THIGH & KNEE & ANKLE & BICEPS & FOREARM & WRIST\\\\\n",
       "  & <dbl> & <dbl> & <int> & <dbl> & <dbl> & <dbl> & <dbl> & <dbl> & <dbl> & <dbl> & <dbl> & <dbl> & <dbl> & <dbl> & <dbl> & <dbl>\\\\\n",
       "\\hline\n",
       "\t39 & 33.8 & 1.0202 & 46 & 363.15 & 72.25 & 48.9 & 51.2 & 136.2 & 148.1 & 147.7 & 87.3 & 49.1 & 29.6 & 45.0 & 29.0 & 21.4\\\\\n",
       "\t42 & 31.7 & 1.0250 & 44 & 205.00 & 29.50 & 29.9 & 36.6 & 106.0 & 104.3 & 115.5 & 70.6 & 42.5 & 23.7 & 33.6 & 28.7 & 17.4\\\\\n",
       "\t48 &  6.4 & 1.0665 & 39 & 148.50 & 71.25 & 20.6 & 34.6 &  89.8 &  79.5 &  92.7 & 52.7 & 37.5 & 21.9 & 28.8 & 26.8 & 17.9\\\\\n",
       "\t96 & 17.3 & 1.0991 & 53 & 224.50 & 77.75 & 26.1 & 41.1 & 113.2 &  99.2 & 107.5 & 61.7 & 42.3 & 23.2 & 32.9 & 30.8 & 20.4\\\\\n",
       "\t182 &  0.0 & 1.1089 & 40 & 118.50 & 68.00 & 18.1 & 33.8 &  79.3 &  69.4 &  85.0 & 47.2 & 33.5 & 20.2 & 27.7 & 24.6 & 16.5\\\\\n",
       "\t216 & 45.1 & 0.9950 & 51 & 219.00 & 64.00 & 37.6 & 41.2 & 119.8 & 122.1 & 112.8 & 62.5 & 36.9 & 23.6 & 34.7 & 29.1 & 18.4\\\\\n",
       "\\end{tabular}\n"
      ],
      "text/markdown": [
       "\n",
       "A data.frame: 6 × 16\n",
       "\n",
       "| <!--/--> | BODYFAT &lt;dbl&gt; | DENSITY &lt;dbl&gt; | AGE &lt;int&gt; | WEIGHT &lt;dbl&gt; | HEIGHT &lt;dbl&gt; | ADIPOSITY &lt;dbl&gt; | NECK &lt;dbl&gt; | CHEST &lt;dbl&gt; | ABDOMEN &lt;dbl&gt; | HIP &lt;dbl&gt; | THIGH &lt;dbl&gt; | KNEE &lt;dbl&gt; | ANKLE &lt;dbl&gt; | BICEPS &lt;dbl&gt; | FOREARM &lt;dbl&gt; | WRIST &lt;dbl&gt; |\n",
       "|---|---|---|---|---|---|---|---|---|---|---|---|---|---|---|---|---|\n",
       "| 39 | 33.8 | 1.0202 | 46 | 363.15 | 72.25 | 48.9 | 51.2 | 136.2 | 148.1 | 147.7 | 87.3 | 49.1 | 29.6 | 45.0 | 29.0 | 21.4 |\n",
       "| 42 | 31.7 | 1.0250 | 44 | 205.00 | 29.50 | 29.9 | 36.6 | 106.0 | 104.3 | 115.5 | 70.6 | 42.5 | 23.7 | 33.6 | 28.7 | 17.4 |\n",
       "| 48 |  6.4 | 1.0665 | 39 | 148.50 | 71.25 | 20.6 | 34.6 |  89.8 |  79.5 |  92.7 | 52.7 | 37.5 | 21.9 | 28.8 | 26.8 | 17.9 |\n",
       "| 96 | 17.3 | 1.0991 | 53 | 224.50 | 77.75 | 26.1 | 41.1 | 113.2 |  99.2 | 107.5 | 61.7 | 42.3 | 23.2 | 32.9 | 30.8 | 20.4 |\n",
       "| 182 |  0.0 | 1.1089 | 40 | 118.50 | 68.00 | 18.1 | 33.8 |  79.3 |  69.4 |  85.0 | 47.2 | 33.5 | 20.2 | 27.7 | 24.6 | 16.5 |\n",
       "| 216 | 45.1 | 0.9950 | 51 | 219.00 | 64.00 | 37.6 | 41.2 | 119.8 | 122.1 | 112.8 | 62.5 | 36.9 | 23.6 | 34.7 | 29.1 | 18.4 |\n",
       "\n"
      ],
      "text/plain": [
       "    BODYFAT DENSITY AGE WEIGHT HEIGHT ADIPOSITY NECK CHEST ABDOMEN HIP   THIGH\n",
       "39  33.8    1.0202  46  363.15 72.25  48.9      51.2 136.2 148.1   147.7 87.3 \n",
       "42  31.7    1.0250  44  205.00 29.50  29.9      36.6 106.0 104.3   115.5 70.6 \n",
       "48   6.4    1.0665  39  148.50 71.25  20.6      34.6  89.8  79.5    92.7 52.7 \n",
       "96  17.3    1.0991  53  224.50 77.75  26.1      41.1 113.2  99.2   107.5 61.7 \n",
       "182  0.0    1.1089  40  118.50 68.00  18.1      33.8  79.3  69.4    85.0 47.2 \n",
       "216 45.1    0.9950  51  219.00 64.00  37.6      41.2 119.8 122.1   112.8 62.5 \n",
       "    KNEE ANKLE BICEPS FOREARM WRIST\n",
       "39  49.1 29.6  45.0   29.0    21.4 \n",
       "42  42.5 23.7  33.6   28.7    17.4 \n",
       "48  37.5 21.9  28.8   26.8    17.9 \n",
       "96  42.3 23.2  32.9   30.8    20.4 \n",
       "182 33.5 20.2  27.7   24.6    16.5 \n",
       "216 36.9 23.6  34.7   29.1    18.4 "
      ]
     },
     "metadata": {},
     "output_type": "display_data"
    },
    {
     "data": {
      "text/html": [
       "<table>\n",
       "<caption>A data.frame: 1 × 16</caption>\n",
       "<thead>\n",
       "\t<tr><th></th><th scope=col>BODYFAT</th><th scope=col>DENSITY</th><th scope=col>AGE</th><th scope=col>WEIGHT</th><th scope=col>HEIGHT</th><th scope=col>ADIPOSITY</th><th scope=col>NECK</th><th scope=col>CHEST</th><th scope=col>ABDOMEN</th><th scope=col>HIP</th><th scope=col>THIGH</th><th scope=col>KNEE</th><th scope=col>ANKLE</th><th scope=col>BICEPS</th><th scope=col>FOREARM</th><th scope=col>WRIST</th></tr>\n",
       "\t<tr><th></th><th scope=col>&lt;dbl&gt;</th><th scope=col>&lt;dbl&gt;</th><th scope=col>&lt;int&gt;</th><th scope=col>&lt;dbl&gt;</th><th scope=col>&lt;dbl&gt;</th><th scope=col>&lt;dbl&gt;</th><th scope=col>&lt;dbl&gt;</th><th scope=col>&lt;dbl&gt;</th><th scope=col>&lt;dbl&gt;</th><th scope=col>&lt;dbl&gt;</th><th scope=col>&lt;dbl&gt;</th><th scope=col>&lt;dbl&gt;</th><th scope=col>&lt;dbl&gt;</th><th scope=col>&lt;dbl&gt;</th><th scope=col>&lt;dbl&gt;</th><th scope=col>&lt;dbl&gt;</th></tr>\n",
       "</thead>\n",
       "<tbody>\n",
       "\t<tr><th scope=row>90</th><td>14.3</td><td>1.0666</td><td>48</td><td>176</td><td>73</td><td>23.3</td><td>36.7</td><td>96.7</td><td>86.5</td><td>98.3</td><td>60.4</td><td>39.9</td><td>24.4</td><td>28.8</td><td>29.6</td><td>18.7</td></tr>\n",
       "</tbody>\n",
       "</table>\n"
      ],
      "text/latex": [
       "A data.frame: 1 × 16\n",
       "\\begin{tabular}{r|llllllllllllllll}\n",
       "  & BODYFAT & DENSITY & AGE & WEIGHT & HEIGHT & ADIPOSITY & NECK & CHEST & ABDOMEN & HIP & THIGH & KNEE & ANKLE & BICEPS & FOREARM & WRIST\\\\\n",
       "  & <dbl> & <dbl> & <int> & <dbl> & <dbl> & <dbl> & <dbl> & <dbl> & <dbl> & <dbl> & <dbl> & <dbl> & <dbl> & <dbl> & <dbl> & <dbl>\\\\\n",
       "\\hline\n",
       "\t90 & 14.3 & 1.0666 & 48 & 176 & 73 & 23.3 & 36.7 & 96.7 & 86.5 & 98.3 & 60.4 & 39.9 & 24.4 & 28.8 & 29.6 & 18.7\\\\\n",
       "\\end{tabular}\n"
      ],
      "text/markdown": [
       "\n",
       "A data.frame: 1 × 16\n",
       "\n",
       "| <!--/--> | BODYFAT &lt;dbl&gt; | DENSITY &lt;dbl&gt; | AGE &lt;int&gt; | WEIGHT &lt;dbl&gt; | HEIGHT &lt;dbl&gt; | ADIPOSITY &lt;dbl&gt; | NECK &lt;dbl&gt; | CHEST &lt;dbl&gt; | ABDOMEN &lt;dbl&gt; | HIP &lt;dbl&gt; | THIGH &lt;dbl&gt; | KNEE &lt;dbl&gt; | ANKLE &lt;dbl&gt; | BICEPS &lt;dbl&gt; | FOREARM &lt;dbl&gt; | WRIST &lt;dbl&gt; |\n",
       "|---|---|---|---|---|---|---|---|---|---|---|---|---|---|---|---|---|\n",
       "| 90 | 14.3 | 1.0666 | 48 | 176 | 73 | 23.3 | 36.7 | 96.7 | 86.5 | 98.3 | 60.4 | 39.9 | 24.4 | 28.8 | 29.6 | 18.7 |\n",
       "\n"
      ],
      "text/plain": [
       "   BODYFAT DENSITY AGE WEIGHT HEIGHT ADIPOSITY NECK CHEST ABDOMEN HIP  THIGH\n",
       "90 14.3    1.0666  48  176    73     23.3      36.7 96.7  86.5    98.3 60.4 \n",
       "   KNEE ANKLE BICEPS FOREARM WRIST\n",
       "90 39.9 24.4  28.8   29.6    18.7 "
      ]
     },
     "metadata": {},
     "output_type": "display_data"
    }
   ],
   "source": [
    "data[index,]\n",
    "data[90,]\n",
    "data$BODYFAT[48] = 496/data$DENSITY[48]-450"
   ]
  },
  {
   "cell_type": "markdown",
   "metadata": {},
   "source": [
    "Keep data 39, 42 and 96 in the later analysis.\n",
    "\n",
    "Delete data 182 and 216 as the abnormal values cannot be modified by euqations above.\n",
    "\n",
    "Data 90 is very similar to 48, thus, modify the bodyfat value of 48 by applying the equation $bodyfat = \\frac{495}{density}-450$"
   ]
  },
  {
   "cell_type": "markdown",
   "metadata": {},
   "source": [
    "### Outliers detection"
   ]
  },
  {
   "cell_type": "markdown",
   "metadata": {},
   "source": [
    "From an original linear regression model, use three methods below for testing outliers together:\n",
    "\n",
    "1. remove data points whose standardized residuals' absolute values are greater than 2.5;\n",
    "\n",
    "2. remove data points with Cook's distances greater than $\\frac{4}{n-p}$;\n",
    "\n",
    "3. apply outlierTest function in the car package.\n",
    "\n",
    "Stop detection when the outlierTest function returns no outliers under Bonferroni test.."
   ]
  },
  {
   "cell_type": "code",
   "execution_count": 7,
   "metadata": {},
   "outputs": [
    {
     "data": {
      "text/plain": [
       "No Studentized residuals with Bonferroni p < 0.05\n",
       "Largest |rstudent|:\n",
       "     rstudent unadjusted p-value Bonferroni p\n",
       "224 -2.638581          0.0088843           NA"
      ]
     },
     "metadata": {},
     "output_type": "display_data"
    },
    {
     "data": {
      "image/png": "[encoded data removed]",
      "text/plain": [
       "Plot with title \"\""
      ]
     },
     "metadata": {},
     "output_type": "display_data"
    }
   ],
   "source": [
    "data = data[-c(182,216),]\n",
    "m = lm(BODYFAT~.,data[,-2])\n",
    "# test outliers \n",
    "plot.outlier=function(model,data){\n",
    "  n = nrow(data)\n",
    "  p = ncol(data)\n",
    "  par(mfrow=c(1,2))\n",
    "  plot(model,4)\n",
    "  abline(h=4/(n-p),col=\"red\")\n",
    "  plot(x=model$fitted.values,y=rstudent(model),pch=\".\",\n",
    "       xlab=\"fitted.values\",ylab=\"studentized residuals\")\n",
    "  text(x=model$fitted.values,y=rstudent(model),labels=1:nrow(data),cex=0.75)\n",
    "  abline(h=2.5,col=\"red\")\n",
    "  abline(h=-2.5,col=\"red\")\n",
    "  outlierTest(model)\n",
    "}\n",
    "\n",
    "plot.outlier(m,data)\n",
    "par(mfrow=c(1,1))"
   ]
  },
  {
   "cell_type": "markdown",
   "metadata": {},
   "source": [
    "We just remove data points with large Cook's distance or whose residuals are obviously far away from the red lines.\n",
    "\n",
    "Let's have a look at those points closes to red lines."
   ]
  },
  {
   "cell_type": "markdown",
   "metadata": {},
   "source": [
    "It can be concluded from the table above, the suspicious outliers should not be removed as they are in the normal range of people health data."
   ]
  },
  {
   "cell_type": "code",
   "execution_count": 8,
   "metadata": {},
   "outputs": [],
   "source": [
    "ind = c(39,42,86,220)\n",
    "data = data[-ind,]"
   ]
  },
  {
   "cell_type": "markdown",
   "metadata": {},
   "source": [
    "In the progress above, 6 outliers are removed."
   ]
  },
  {
   "cell_type": "markdown",
   "metadata": {},
   "source": [
    "### Dimension of data"
   ]
  },
  {
   "cell_type": "code",
   "execution_count": 9,
   "metadata": {},
   "outputs": [
    {
     "name": "stdout",
     "output_type": "stream",
     "text": [
      "This data(X) is a 246x15 matrix."
     ]
    }
   ],
   "source": [
    "n = nrow(data); p = ncol(data[,-1])\n",
    "cat(\"This data(X) is a \",n,\"x\",p,\" matrix.\",sep=\"\" )"
   ]
  },
  {
   "cell_type": "markdown",
   "metadata": {},
   "source": [
    "Write the new data into a csv file. (As we have done so, don't run the last cell.)"
   ]
  },
  {
   "cell_type": "code",
   "execution_count": 10,
   "metadata": {},
   "outputs": [],
   "source": [
    "# write.csv(data,\"data.cleaned.csv\")"
   ]
  }
 ],
 "metadata": {
  "kernelspec": {
   "display_name": "R",
   "language": "R",
   "name": "ir"
  },
  "language_info": {
   "codemirror_mode": "r",
   "file_extension": ".r",
   "mimetype": "text/x-r-source",
   "name": "R",
   "pygments_lexer": "r",
   "version": "3.6.1"
  }
 },
 "nbformat": 4,
 "nbformat_minor": 2
}
