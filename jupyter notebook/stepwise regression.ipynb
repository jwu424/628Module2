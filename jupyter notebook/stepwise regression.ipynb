{
 "cells": [
  {
   "cell_type": "code",
   "execution_count": 1,
   "metadata": {},
   "outputs": [
    {
     "name": "stderr",
     "output_type": "stream",
     "text": [
      "Loading required package: carData\n"
     ]
    }
   ],
   "source": [
    "rm(list=ls())\n",
    "library(car)\n",
    "setwd(\"D:/2019 Fall/STAT 628/module 2/data\")\n",
    "data = read.csv(\"data_cleaned.csv\")[,-c(1,3)]"
   ]
  },
  {
   "cell_type": "markdown",
   "metadata": {},
   "source": [
    "### Review of original linear regression model"
   ]
  },
  {
   "cell_type": "code",
   "execution_count": 2,
   "metadata": {},
   "outputs": [
    {
     "data": {
      "text/html": [
       "<table>\n",
       "<caption>A matrix: 15 × 4 of type dbl</caption>\n",
       "<thead>\n",
       "\t<tr><th></th><th scope=col>Estimate</th><th scope=col>Std. Error</th><th scope=col>t value</th><th scope=col>Pr(&gt;|t|)</th></tr>\n",
       "</thead>\n",
       "<tbody>\n",
       "\t<tr><th scope=row>(Intercept)</th><td>-12.10145782</td><td>38.14717994</td><td>-0.3172307</td><td>7.513551e-01</td></tr>\n",
       "\t<tr><th scope=row>AGE</th><td>  0.05478405</td><td> 0.03034241</td><td> 1.8055274</td><td>7.229408e-02</td></tr>\n",
       "\t<tr><th scope=row>WEIGHT</th><td> -0.05540905</td><td> 0.10668445</td><td>-0.5193732</td><td>6.039978e-01</td></tr>\n",
       "\t<tr><th scope=row>HEIGHT</th><td>  0.06171519</td><td> 0.52951955</td><td> 0.1165494</td><td>9.073184e-01</td></tr>\n",
       "\t<tr><th scope=row>ADIPOSITY</th><td>  0.39174132</td><td> 0.76935979</td><td> 0.5091783</td><td>6.111133e-01</td></tr>\n",
       "\t<tr><th scope=row>NECK</th><td> -0.38398818</td><td> 0.21677764</td><td>-1.7713459</td><td>7.782170e-02</td></tr>\n",
       "\t<tr><th scope=row>CHEST</th><td> -0.12634161</td><td> 0.10438661</td><td>-1.2103239</td><td>2.273916e-01</td></tr>\n",
       "\t<tr><th scope=row>ABDOMEN</th><td>  0.82871447</td><td> 0.08613884</td><td> 9.6206829</td><td>1.215296e-18</td></tr>\n",
       "\t<tr><th scope=row>HIP</th><td> -0.20688061</td><td> 0.13776328</td><td>-1.5017108</td><td>1.345375e-01</td></tr>\n",
       "\t<tr><th scope=row>THIGH</th><td>  0.16861269</td><td> 0.13829847</td><td> 1.2191942</td><td>2.240140e-01</td></tr>\n",
       "\t<tr><th scope=row>KNEE</th><td>  0.05652942</td><td> 0.23159653</td><td> 0.2440858</td><td>8.073811e-01</td></tr>\n",
       "\t<tr><th scope=row>ANKLE</th><td> -0.08868085</td><td> 0.25358223</td><td>-0.3497124</td><td>7.268732e-01</td></tr>\n",
       "\t<tr><th scope=row>BICEPS</th><td>  0.14686667</td><td> 0.15860752</td><td> 0.9259754</td><td>3.554251e-01</td></tr>\n",
       "\t<tr><th scope=row>FOREARM</th><td>  0.25078737</td><td> 0.19293837</td><td> 1.2998315</td><td>1.949543e-01</td></tr>\n",
       "\t<tr><th scope=row>WRIST</th><td> -1.45548501</td><td> 0.50248436</td><td>-2.8965777</td><td>4.134867e-03</td></tr>\n",
       "</tbody>\n",
       "</table>\n"
      ],
      "text/latex": [
       "A matrix: 15 × 4 of type dbl\n",
       "\\begin{tabular}{r|llll}\n",
       "  & Estimate & Std. Error & t value & Pr(>\\textbar{}t\\textbar{})\\\\\n",
       "\\hline\n",
       "\t(Intercept) & -12.10145782 & 38.14717994 & -0.3172307 & 7.513551e-01\\\\\n",
       "\tAGE &   0.05478405 &  0.03034241 &  1.8055274 & 7.229408e-02\\\\\n",
       "\tWEIGHT &  -0.05540905 &  0.10668445 & -0.5193732 & 6.039978e-01\\\\\n",
       "\tHEIGHT &   0.06171519 &  0.52951955 &  0.1165494 & 9.073184e-01\\\\\n",
       "\tADIPOSITY &   0.39174132 &  0.76935979 &  0.5091783 & 6.111133e-01\\\\\n",
       "\tNECK &  -0.38398818 &  0.21677764 & -1.7713459 & 7.782170e-02\\\\\n",
       "\tCHEST &  -0.12634161 &  0.10438661 & -1.2103239 & 2.273916e-01\\\\\n",
       "\tABDOMEN &   0.82871447 &  0.08613884 &  9.6206829 & 1.215296e-18\\\\\n",
       "\tHIP &  -0.20688061 &  0.13776328 & -1.5017108 & 1.345375e-01\\\\\n",
       "\tTHIGH &   0.16861269 &  0.13829847 &  1.2191942 & 2.240140e-01\\\\\n",
       "\tKNEE &   0.05652942 &  0.23159653 &  0.2440858 & 8.073811e-01\\\\\n",
       "\tANKLE &  -0.08868085 &  0.25358223 & -0.3497124 & 7.268732e-01\\\\\n",
       "\tBICEPS &   0.14686667 &  0.15860752 &  0.9259754 & 3.554251e-01\\\\\n",
       "\tFOREARM &   0.25078737 &  0.19293837 &  1.2998315 & 1.949543e-01\\\\\n",
       "\tWRIST &  -1.45548501 &  0.50248436 & -2.8965777 & 4.134867e-03\\\\\n",
       "\\end{tabular}\n"
      ],
      "text/markdown": [
       "\n",
       "A matrix: 15 × 4 of type dbl\n",
       "\n",
       "| <!--/--> | Estimate | Std. Error | t value | Pr(&gt;|t|) |\n",
       "|---|---|---|---|---|\n",
       "| (Intercept) | -12.10145782 | 38.14717994 | -0.3172307 | 7.513551e-01 |\n",
       "| AGE |   0.05478405 |  0.03034241 |  1.8055274 | 7.229408e-02 |\n",
       "| WEIGHT |  -0.05540905 |  0.10668445 | -0.5193732 | 6.039978e-01 |\n",
       "| HEIGHT |   0.06171519 |  0.52951955 |  0.1165494 | 9.073184e-01 |\n",
       "| ADIPOSITY |   0.39174132 |  0.76935979 |  0.5091783 | 6.111133e-01 |\n",
       "| NECK |  -0.38398818 |  0.21677764 | -1.7713459 | 7.782170e-02 |\n",
       "| CHEST |  -0.12634161 |  0.10438661 | -1.2103239 | 2.273916e-01 |\n",
       "| ABDOMEN |   0.82871447 |  0.08613884 |  9.6206829 | 1.215296e-18 |\n",
       "| HIP |  -0.20688061 |  0.13776328 | -1.5017108 | 1.345375e-01 |\n",
       "| THIGH |   0.16861269 |  0.13829847 |  1.2191942 | 2.240140e-01 |\n",
       "| KNEE |   0.05652942 |  0.23159653 |  0.2440858 | 8.073811e-01 |\n",
       "| ANKLE |  -0.08868085 |  0.25358223 | -0.3497124 | 7.268732e-01 |\n",
       "| BICEPS |   0.14686667 |  0.15860752 |  0.9259754 | 3.554251e-01 |\n",
       "| FOREARM |   0.25078737 |  0.19293837 |  1.2998315 | 1.949543e-01 |\n",
       "| WRIST |  -1.45548501 |  0.50248436 | -2.8965777 | 4.134867e-03 |\n",
       "\n"
      ],
      "text/plain": [
       "            Estimate     Std. Error  t value    Pr(>|t|)    \n",
       "(Intercept) -12.10145782 38.14717994 -0.3172307 7.513551e-01\n",
       "AGE           0.05478405  0.03034241  1.8055274 7.229408e-02\n",
       "WEIGHT       -0.05540905  0.10668445 -0.5193732 6.039978e-01\n",
       "HEIGHT        0.06171519  0.52951955  0.1165494 9.073184e-01\n",
       "ADIPOSITY     0.39174132  0.76935979  0.5091783 6.111133e-01\n",
       "NECK         -0.38398818  0.21677764 -1.7713459 7.782170e-02\n",
       "CHEST        -0.12634161  0.10438661 -1.2103239 2.273916e-01\n",
       "ABDOMEN       0.82871447  0.08613884  9.6206829 1.215296e-18\n",
       "HIP          -0.20688061  0.13776328 -1.5017108 1.345375e-01\n",
       "THIGH         0.16861269  0.13829847  1.2191942 2.240140e-01\n",
       "KNEE          0.05652942  0.23159653  0.2440858 8.073811e-01\n",
       "ANKLE        -0.08868085  0.25358223 -0.3497124 7.268732e-01\n",
       "BICEPS        0.14686667  0.15860752  0.9259754 3.554251e-01\n",
       "FOREARM       0.25078737  0.19293837  1.2998315 1.949543e-01\n",
       "WRIST        -1.45548501  0.50248436 -2.8965777 4.134867e-03"
      ]
     },
     "metadata": {},
     "output_type": "display_data"
    },
    {
     "name": "stdout",
     "output_type": "stream",
     "text": [
      "Adjusted R-squared: 0.7188665   R-squared: 0.7349313   MSE: 15.40371"
     ]
    }
   ],
   "source": [
    "m = lm(BODYFAT~.,data)\n",
    "coefficients(summary(m))\n",
    "cat(\"Adjusted R-squared:\",summary(m)$adj.r.squared,\"  R-squared:\",summary(m)$r.squared,\n",
    "    \"  MSE:\",sum(summary(m)$residuals^2)/(nrow(data)-ncol(data)))"
   ]
  },
  {
   "cell_type": "markdown",
   "metadata": {},
   "source": [
    "From the summary of the model, it can be seen that there exists some insignificant predictors;\n",
    "\n",
    "Besides, we will show there is multi-colinearity relationship between design matrix."
   ]
  },
  {
   "cell_type": "markdown",
   "metadata": {},
   "source": [
    "#### Colinearity in design matrix"
   ]
  },
  {
   "cell_type": "code",
   "execution_count": 3,
   "metadata": {},
   "outputs": [
    {
     "name": "stdout",
     "output_type": "stream",
     "text": [
      "The maximum vif value of design matrix X is: 128.532\n",
      " The k condition number of design matrix X is: 357615.1"
     ]
    }
   ],
   "source": [
    "cat(\"The maximum vif value of design matrix X is: \",max(vif(m)),sep=\"\")\n",
    "mat = as.matrix(data[-1])\n",
    "cat(\"\\n The k condition number of design matrix X is: \",max(eigen(t(mat)%*%mat)$values)/min(eigen(t(mat)%*%mat)$values),sep=\"\")"
   ]
  },
  {
   "cell_type": "markdown",
   "metadata": {},
   "source": [
    "Thus, for computational efficiency and multi-colinearity solution, apply step-wise regression with different directions and criteria ti do variables selection."
   ]
  },
  {
   "cell_type": "markdown",
   "metadata": {},
   "source": [
    "### Variables selection"
   ]
  },
  {
   "cell_type": "markdown",
   "metadata": {},
   "source": [
    "#### Split data"
   ]
  },
  {
   "cell_type": "markdown",
   "metadata": {},
   "source": [
    "Here we set seed to 628 and split data into training set: validation set = 3:4."
   ]
  },
  {
   "cell_type": "code",
   "execution_count": 4,
   "metadata": {},
   "outputs": [],
   "source": [
    "n = nrow(data)\n",
    "set.seed(628)\n",
    "index = sample(1:n,floor(3*n/4))\n",
    "train = data[index,]\n",
    "test = data[-index,]\n",
    "m = lm(train$BODYFAT~.,train)"
   ]
  },
  {
   "cell_type": "markdown",
   "metadata": {},
   "source": [
    "#### Variables selection"
   ]
  },
  {
   "cell_type": "markdown",
   "metadata": {},
   "source": [
    "Here, we use AIC and BIC criteria with 3 directions to select variables. For a linear regression model with design matrix $X_{n\\times k}$, \n",
    "$$AIC = 2k-2\\ln{L}$$\n",
    "$$BIC = k\\ln{n}-2\\ln{L}$$\n",
    "where $L = (2\\pi)^{-\\frac{kn}{2}}|{\\Sigma}|^{-\\frac{n}{2}} e^{\\frac{1}{2}\\Sigma_{i=1}^n(x_i-\\mu)^T\\Sigma^{-1}(x_i-\\mu)}$ is the likelihood function under normality assumption.\n",
    "The different directions represent methods of adding or deleting predictors to select the model with lowest AIC/BIC."
   ]
  },
  {
   "cell_type": "code",
   "execution_count": 5,
   "metadata": {},
   "outputs": [],
   "source": [
    "index = function(m,show=F){\n",
    "  if(show==T){\n",
    "    print(m)\n",
    "  }\n",
    "  return(names(coefficients(m)[-1]))\n",
    "}"
   ]
  },
  {
   "cell_type": "markdown",
   "metadata": {},
   "source": [
    "#### AIC criterion"
   ]
  },
  {
   "cell_type": "code",
   "execution_count": 6,
   "metadata": {},
   "outputs": [],
   "source": [
    "aic.both = index(step(m,direction=\"both\",k=2,trace=0))\n",
    "aic.back = index(step(m,direction=\"backward\",k=2,trace=0))\n",
    "aic.for = index(step(m,direction=\"forward\",k=2,trace=0))"
   ]
  },
  {
   "cell_type": "markdown",
   "metadata": {},
   "source": [
    "#### BIC criterion"
   ]
  },
  {
   "cell_type": "code",
   "execution_count": 7,
   "metadata": {},
   "outputs": [],
   "source": [
    "n=nrow(train);p=ncol(train[,-1])\n",
    "bic.both = index(step(m,direction=\"both\",k=log(n),trace=0))\n",
    "bic.back = index(step(m,direction=\"backward\",k=log(n),trace=0))\n",
    "bic.for = index(step(m,direction=\"forward\",k=log(n),trace=0))"
   ]
  },
  {
   "cell_type": "markdown",
   "metadata": {},
   "source": [
    "#### Summary"
   ]
  },
  {
   "cell_type": "code",
   "execution_count": 8,
   "metadata": {},
   "outputs": [
    {
     "data": {
      "text/html": [
       "<table>\n",
       "<caption>A data.frame: 3 × 3</caption>\n",
       "<thead>\n",
       "\t<tr><th scope=col>model</th><th scope=col>variables</th><th scope=col>info</th></tr>\n",
       "\t<tr><th scope=col>&lt;fct&gt;</th><th scope=col>&lt;fct&gt;</th><th scope=col>&lt;fct&gt;</th></tr>\n",
       "</thead>\n",
       "<tbody>\n",
       "\t<tr><td>model 1</td><td>AGE,WEIGHT,ABDOMEN,THIGH,FOREARM,WRIST</td><td>best AIC model with direction 'both' and 'backward'</td></tr>\n",
       "\t<tr><td>model 2</td><td>WEIGHT,ABDOMEN,WRIST                  </td><td>best BIC model with direction 'both' and 'backward'</td></tr>\n",
       "\t<tr><td>model 3</td><td>full model                            </td><td>best model with AIC, BIC forward direction.        </td></tr>\n",
       "</tbody>\n",
       "</table>\n"
      ],
      "text/latex": [
       "A data.frame: 3 × 3\n",
       "\\begin{tabular}{r|lll}\n",
       " model & variables & info\\\\\n",
       " <fct> & <fct> & <fct>\\\\\n",
       "\\hline\n",
       "\t model 1 & AGE,WEIGHT,ABDOMEN,THIGH,FOREARM,WRIST & best AIC model with direction 'both' and 'backward'\\\\\n",
       "\t model 2 & WEIGHT,ABDOMEN,WRIST                   & best BIC model with direction 'both' and 'backward'\\\\\n",
       "\t model 3 & full model                             & best model with AIC, BIC forward direction.        \\\\\n",
       "\\end{tabular}\n"
      ],
      "text/markdown": [
       "\n",
       "A data.frame: 3 × 3\n",
       "\n",
       "| model &lt;fct&gt; | variables &lt;fct&gt; | info &lt;fct&gt; |\n",
       "|---|---|---|\n",
       "| model 1 | AGE,WEIGHT,ABDOMEN,THIGH,FOREARM,WRIST | best AIC model with direction 'both' and 'backward' |\n",
       "| model 2 | WEIGHT,ABDOMEN,WRIST                   | best BIC model with direction 'both' and 'backward' |\n",
       "| model 3 | full model                             | best model with AIC, BIC forward direction.         |\n",
       "\n"
      ],
      "text/plain": [
       "  model   variables                             \n",
       "1 model 1 AGE,WEIGHT,ABDOMEN,THIGH,FOREARM,WRIST\n",
       "2 model 2 WEIGHT,ABDOMEN,WRIST                  \n",
       "3 model 3 full model                            \n",
       "  info                                               \n",
       "1 best AIC model with direction 'both' and 'backward'\n",
       "2 best BIC model with direction 'both' and 'backward'\n",
       "3 best model with AIC, BIC forward direction.        "
      ]
     },
     "metadata": {},
     "output_type": "display_data"
    }
   ],
   "source": [
    "df = data.frame(\"model\"=paste(\"model\",1:3),\n",
    "               \"variables\"=rbind(paste(aic.both,collapse=\",\"),\n",
    "                                paste(bic.both,collapse=\",\"),\n",
    "                                \"full model\"),\n",
    "               \"info\"=rbind(\"best AIC model with direction 'both' and 'backward'\",\n",
    "                           \"best BIC model with direction 'both' and 'backward'\",\n",
    "                           \"best model with AIC, BIC forward direction.\"))\n",
    "df"
   ]
  },
  {
   "cell_type": "markdown",
   "metadata": {},
   "source": [
    "As our goal is selecting variables, we just compare model 1 and model 2 in the following analysis."
   ]
  },
  {
   "cell_type": "markdown",
   "metadata": {},
   "source": [
    "### Models selection"
   ]
  },
  {
   "cell_type": "markdown",
   "metadata": {},
   "source": [
    "#### Comparison on the training set"
   ]
  },
  {
   "cell_type": "code",
   "execution_count": 9,
   "metadata": {},
   "outputs": [],
   "source": [
    "candidate = unique(list(aic.both,aic.back,bic.both,bic.back))\n",
    "model.num = length(candidate)\n",
    "for(i in 1:model.num){\n",
    "  assign(paste(\"m\",i,sep=\"\"), lm(train$BODYFAT~.,train[,candidate[[i]]]))\n",
    "}"
   ]
  },
  {
   "cell_type": "code",
   "execution_count": 10,
   "metadata": {},
   "outputs": [],
   "source": [
    "model.extract=function(model){\n",
    "  r = model$residuals\n",
    "  s = summary(model)\n",
    "  adjr2 = s$adj.r.squared\n",
    "  r2 = s$r.squared\n",
    "  rss = sum(r^2)\n",
    "  p.value = shapiro.test(r)$p.value\n",
    "  vif = max(vif(model))\n",
    "  out = c(r2,adjr2,rss/(length(r)-1),p.value,vif)\n",
    "  names(out) = c(\"R-squared\",\"Adjusted R-squared\",\"MSE\",\"p.value\",\"vif.max\")\n",
    "  return(out)\n",
    "}"
   ]
  },
  {
   "cell_type": "code",
   "execution_count": 11,
   "metadata": {},
   "outputs": [
    {
     "name": "stdout",
     "output_type": "stream",
     "text": [
      "2 models comparison:\n",
      "   R-squared Adjusted R-squared      MSE   p.value   vif.max\n",
      "m1 0.7400173          0.7312043 13.88465 0.2392605 11.523178\n",
      "m2 0.7272641          0.7227185 14.56575 0.2177470  5.199095\n"
     ]
    }
   ],
   "source": [
    "comp = rbind(model.extract(m1),model.extract(m2))\n",
    "rownames(comp) = paste(\"m\",1:2,sep=\"\")\n",
    "cat(\"2 models comparison:\\n\")\n",
    "print(comp)"
   ]
  },
  {
   "cell_type": "code",
   "execution_count": 12,
   "metadata": {},
   "outputs": [
    {
     "name": "stdout",
     "output_type": "stream",
     "text": [
      "model 1 diagnostic graphics:\n"
     ]
    },
    {
     "data": {
      "image/png": "[encoded data removed]",
      "text/plain": [
       "Plot with title \"\""
      ]
     },
     "metadata": {},
     "output_type": "display_data"
    }
   ],
   "source": [
    "par(mfrow=c(2,2))\n",
    "cat(\"model 1 diagnostic graphics:\\n\")\n",
    "plot(m1)"
   ]
  },
  {
   "cell_type": "code",
   "execution_count": 13,
   "metadata": {},
   "outputs": [
    {
     "name": "stdout",
     "output_type": "stream",
     "text": [
      "model 2 diagnostic graphics:\n"
     ]
    },
    {
     "data": {
      "image/png": "[encoded data removed]",
      "text/plain": [
       "Plot with title \"\""
      ]
     },
     "metadata": {},
     "output_type": "display_data"
    }
   ],
   "source": [
    "par(mfrow=c(2,2))\n",
    "cat(\"model 2 diagnostic graphics:\\n\")\n",
    "plot(m2)\n",
    "par(mfrow=c(1,1))"
   ]
  },
  {
   "cell_type": "markdown",
   "metadata": {},
   "source": [
    "#### Performances on the validation set"
   ]
  },
  {
   "cell_type": "code",
   "execution_count": 14,
   "metadata": {},
   "outputs": [],
   "source": [
    "calculate = function(model,ind){\n",
    "  test.X = test[,ind]\n",
    "  y = test$BODYFAT\n",
    "  y.hat = predict.lm(model,test.X)\n",
    "  r = y-y.hat\n",
    "  rss = sum(r^2)\n",
    "  sst = sum((y-mean(y))^2)\n",
    "  r2 = 1-rss/sst\n",
    "  adjr2 = 1-(rss/(nrow(test.X)-1))/(sst/(nrow(test.X)-ncol(test.X)-1))\n",
    "  p.value = shapiro.test(r)$p.value\n",
    "  outcome = list(\"R-squared\"=r2,\n",
    "                 \"Adjusted R-squared\"=adjr2,\n",
    "                 \"p.value\"=p.value,\n",
    "                 \"residuals\"=r)\n",
    "  return(outcome)\n",
    "}\n",
    "\n",
    "o1 = calculate(m1,candidate[[1]])\n",
    "o2 = calculate(m2,candidate[[2]])\n",
    "comp.test = rbind(c(o1$`R-squared`,o1$`Adjusted R-squared`,sum(o1$residuals^2)/(nrow(test)-ncol(test)),o1$p.value),\n",
    "                  c(o2$`R-squared`,o2$`Adjusted R-squared`,sum(o2$residuals^2)/(nrow(test)-ncol(test)),o2$p.value))\n",
    "colnames(comp.test) = c(\"R-squared\",\"Adjusted R-squared\",\"MSE\",\"p.value\")\n",
    "rownames(comp.test) = paste(\"m\",1:2,sep=\"\")"
   ]
  },
  {
   "cell_type": "code",
   "execution_count": 15,
   "metadata": {},
   "outputs": [
    {
     "name": "stdout",
     "output_type": "stream",
     "text": [
      "models' performances on the training set:\n",
      "   R-squared Adjusted R-squared      MSE   p.value   vif.max\n",
      "m1 0.7400173          0.7312043 13.88465 0.2392605 11.523178\n",
      "m2 0.7272641          0.7227185 14.56575 0.2177470  5.199095\n",
      "\n",
      "models' performances on the test set:\n",
      "   R-squared Adjusted R-squared      MSE    p.value\n",
      "m1 0.6820784          0.7133493 24.49591 0.35590722\n",
      "m2 0.6854863          0.7009542 24.23332 0.07466635\n"
     ]
    }
   ],
   "source": [
    "cat(\"models' performances on the training set:\\n\")\n",
    "print(comp)\n",
    "cat(\"\\nmodels' performances on the test set:\\n\")\n",
    "print(comp.test)"
   ]
  },
  {
   "cell_type": "markdown",
   "metadata": {},
   "source": [
    "From tables above, it can be concluded that model 1 still has multicolinearity between design matrix. Model 2' $R^2_{adj}$ decreases not serious and has lower MSE compared with model 1, althouhg its risiduals are less likely normally distributed , but it's still good enough to be the final model.\n",
    "\n",
    "Then we refit the model 2 on the whole dateset."
   ]
  },
  {
   "cell_type": "markdown",
   "metadata": {},
   "source": [
    "### Refit model"
   ]
  },
  {
   "cell_type": "code",
   "execution_count": 16,
   "metadata": {},
   "outputs": [
    {
     "data": {
      "text/html": [
       "<table>\n",
       "<caption>A matrix: 4 × 5 of type dbl</caption>\n",
       "<thead>\n",
       "\t<tr><th></th><th scope=col>Estimate</th><th scope=col>Std. Error</th><th scope=col>Pr(&gt;|t|)</th><th scope=col>2.5 %</th><th scope=col>97.5 %</th></tr>\n",
       "</thead>\n",
       "<tbody>\n",
       "\t<tr><th scope=row>(Intercept)</th><td>-23.86796500</td><td>6.20448216</td><td>1.530561e-04</td><td>-36.0896479</td><td>-11.64628215</td></tr>\n",
       "\t<tr><th scope=row>WEIGHT</th><td> -0.08350773</td><td>0.02229762</td><td>2.253849e-04</td><td> -0.1274299</td><td> -0.03958554</td></tr>\n",
       "\t<tr><th scope=row>ABDOMEN</th><td>  0.86989031</td><td>0.05185147</td><td>1.996194e-42</td><td>  0.7677525</td><td>  0.97202812</td></tr>\n",
       "\t<tr><th scope=row>WRIST</th><td> -1.24546008</td><td>0.40111071</td><td>2.129234e-03</td><td> -2.0355740</td><td> -0.45534613</td></tr>\n",
       "</tbody>\n",
       "</table>\n"
      ],
      "text/latex": [
       "A matrix: 4 × 5 of type dbl\n",
       "\\begin{tabular}{r|lllll}\n",
       "  & Estimate & Std. Error & Pr(>\\textbar{}t\\textbar{}) & 2.5 \\% & 97.5 \\%\\\\\n",
       "\\hline\n",
       "\t(Intercept) & -23.86796500 & 6.20448216 & 1.530561e-04 & -36.0896479 & -11.64628215\\\\\n",
       "\tWEIGHT &  -0.08350773 & 0.02229762 & 2.253849e-04 &  -0.1274299 &  -0.03958554\\\\\n",
       "\tABDOMEN &   0.86989031 & 0.05185147 & 1.996194e-42 &   0.7677525 &   0.97202812\\\\\n",
       "\tWRIST &  -1.24546008 & 0.40111071 & 2.129234e-03 &  -2.0355740 &  -0.45534613\\\\\n",
       "\\end{tabular}\n"
      ],
      "text/markdown": [
       "\n",
       "A matrix: 4 × 5 of type dbl\n",
       "\n",
       "| <!--/--> | Estimate | Std. Error | Pr(&gt;|t|) | 2.5 % | 97.5 % |\n",
       "|---|---|---|---|---|---|\n",
       "| (Intercept) | -23.86796500 | 6.20448216 | 1.530561e-04 | -36.0896479 | -11.64628215 |\n",
       "| WEIGHT |  -0.08350773 | 0.02229762 | 2.253849e-04 |  -0.1274299 |  -0.03958554 |\n",
       "| ABDOMEN |   0.86989031 | 0.05185147 | 1.996194e-42 |   0.7677525 |   0.97202812 |\n",
       "| WRIST |  -1.24546008 | 0.40111071 | 2.129234e-03 |  -2.0355740 |  -0.45534613 |\n",
       "\n"
      ],
      "text/plain": [
       "            Estimate     Std. Error Pr(>|t|)     2.5 %       97.5 %      \n",
       "(Intercept) -23.86796500 6.20448216 1.530561e-04 -36.0896479 -11.64628215\n",
       "WEIGHT       -0.08350773 0.02229762 2.253849e-04  -0.1274299  -0.03958554\n",
       "ABDOMEN       0.86989031 0.05185147 1.996194e-42   0.7677525   0.97202812\n",
       "WRIST        -1.24546008 0.40111071 2.129234e-03  -2.0355740  -0.45534613"
      ]
     },
     "metadata": {},
     "output_type": "display_data"
    },
    {
     "name": "stdout",
     "output_type": "stream",
     "text": [
      "Adjusted R-squared: 0.7145848   R-squared: 0.7180797   MSE: 16.38299"
     ]
    }
   ],
   "source": [
    "ind = candidate[[2]]\n",
    "data.select = data[,c(\"BODYFAT\",candidate[[2]])]\n",
    "m = lm(BODYFAT~.,data.select)\n",
    "cbind(coefficients(summary(m))[,-3],confint(m))\n",
    "cat(\"Adjusted R-squared:\",summary(m)$adj.r.squared,\"  R-squared:\",summary(m)$r.squared,\n",
    "    \"  MSE:\",sum(summary(m)$residuals^2)/(nrow(data)-ncol(data)))"
   ]
  },
  {
   "cell_type": "code",
   "execution_count": 17,
   "metadata": {},
   "outputs": [
    {
     "data": {
      "image/png": "[encoded data removed]",
      "text/plain": [
       "Plot with title \"\""
      ]
     },
     "metadata": {},
     "output_type": "display_data"
    }
   ],
   "source": [
    "par(mfrow=c(2,2))\n",
    "plot(m)"
   ]
  }
 ],
 "metadata": {
  "kernelspec": {
   "display_name": "R",
   "language": "R",
   "name": "ir"
  },
  "language_info": {
   "codemirror_mode": "r",
   "file_extension": ".r",
   "mimetype": "text/x-r-source",
   "name": "R",
   "pygments_lexer": "r",
   "version": "3.6.1"
  }
 },
 "nbformat": 4,
 "nbformat_minor": 2
}
